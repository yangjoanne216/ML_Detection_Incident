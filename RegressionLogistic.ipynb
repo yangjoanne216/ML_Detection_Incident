{
 "cells": [
  {
   "cell_type": "markdown",
   "metadata": {},
   "source": [
    "# I.ingénierie des caractéristiques"
   ]
  },
  {
   "cell_type": "code",
   "execution_count": 1,
   "metadata": {},
   "outputs": [
    {
     "data": {
      "text/html": [
       "<div>\n",
       "<style scoped>\n",
       "    .dataframe tbody tr th:only-of-type {\n",
       "        vertical-align: middle;\n",
       "    }\n",
       "\n",
       "    .dataframe tbody tr th {\n",
       "        vertical-align: top;\n",
       "    }\n",
       "\n",
       "    .dataframe thead th {\n",
       "        text-align: right;\n",
       "    }\n",
       "</style>\n",
       "<table border=\"1\" class=\"dataframe\">\n",
       "  <thead>\n",
       "    <tr style=\"text-align: right;\">\n",
       "      <th></th>\n",
       "      <th>ICTRA_PK</th>\n",
       "      <th>ICTRA_USR</th>\n",
       "      <th>ICTRA_DATDEB</th>\n",
       "      <th>ICTRA_DATFIN</th>\n",
       "      <th>ICTRA_CODRET</th>\n",
       "      <th>ICTRA_PARAM1</th>\n",
       "      <th>ICTRA_PARAM2</th>\n",
       "      <th>ICTRA_PARAM3</th>\n",
       "      <th>ICTRA_DATDEBTRAPRE</th>\n",
       "      <th>ICTRA_COM</th>\n",
       "      <th>ICTRA_TYPE</th>\n",
       "      <th>ICTRA_PARAM4</th>\n",
       "      <th>ICTRA_PARAM5</th>\n",
       "      <th>ICTRA_PARAM6</th>\n",
       "      <th>ICTRA_PARAM7</th>\n",
       "      <th>y</th>\n",
       "    </tr>\n",
       "  </thead>\n",
       "  <tbody>\n",
       "    <tr>\n",
       "      <th>0</th>\n",
       "      <td>344771</td>\n",
       "      <td>REPORT_FLUX</td>\n",
       "      <td>2024-07-24 00:05:13</td>\n",
       "      <td>2024-07-24 01:31:04</td>\n",
       "      <td>0.0</td>\n",
       "      <td>NaN</td>\n",
       "      <td>NaN</td>\n",
       "      <td>NaN</td>\n",
       "      <td>NaT</td>\n",
       "      <td>Fin normale du batch</td>\n",
       "      <td>40017</td>\n",
       "      <td>NaN</td>\n",
       "      <td>NaN</td>\n",
       "      <td>NaN</td>\n",
       "      <td>NaN</td>\n",
       "      <td>0</td>\n",
       "    </tr>\n",
       "    <tr>\n",
       "      <th>1</th>\n",
       "      <td>344559</td>\n",
       "      <td>REPORT_FLUX</td>\n",
       "      <td>2024-07-05 00:05:12</td>\n",
       "      <td>2024-07-05 01:30:28</td>\n",
       "      <td>0.0</td>\n",
       "      <td>NaN</td>\n",
       "      <td>NaN</td>\n",
       "      <td>NaN</td>\n",
       "      <td>NaT</td>\n",
       "      <td>Fin normale du batch</td>\n",
       "      <td>40017</td>\n",
       "      <td>NaN</td>\n",
       "      <td>NaN</td>\n",
       "      <td>NaN</td>\n",
       "      <td>NaN</td>\n",
       "      <td>0</td>\n",
       "    </tr>\n",
       "    <tr>\n",
       "      <th>2</th>\n",
       "      <td>344720</td>\n",
       "      <td>REPORT_FLUX</td>\n",
       "      <td>2024-07-17 00:05:13</td>\n",
       "      <td>2024-07-17 01:30:25</td>\n",
       "      <td>0.0</td>\n",
       "      <td>NaN</td>\n",
       "      <td>NaN</td>\n",
       "      <td>NaN</td>\n",
       "      <td>NaT</td>\n",
       "      <td>Fin normale du batch</td>\n",
       "      <td>40017</td>\n",
       "      <td>NaN</td>\n",
       "      <td>NaN</td>\n",
       "      <td>NaN</td>\n",
       "      <td>NaN</td>\n",
       "      <td>0</td>\n",
       "    </tr>\n",
       "    <tr>\n",
       "      <th>3</th>\n",
       "      <td>344792</td>\n",
       "      <td>REPORT_FLUX</td>\n",
       "      <td>2024-07-27 00:05:13</td>\n",
       "      <td>2024-07-27 01:29:51</td>\n",
       "      <td>0.0</td>\n",
       "      <td>NaN</td>\n",
       "      <td>NaN</td>\n",
       "      <td>NaN</td>\n",
       "      <td>NaT</td>\n",
       "      <td>Fin normale du batch</td>\n",
       "      <td>40017</td>\n",
       "      <td>NaN</td>\n",
       "      <td>NaN</td>\n",
       "      <td>NaN</td>\n",
       "      <td>NaN</td>\n",
       "      <td>0</td>\n",
       "    </tr>\n",
       "    <tr>\n",
       "      <th>4</th>\n",
       "      <td>344733</td>\n",
       "      <td>REPORT_FLUX</td>\n",
       "      <td>2024-07-18 00:05:15</td>\n",
       "      <td>2024-07-18 01:29:02</td>\n",
       "      <td>0.0</td>\n",
       "      <td>NaN</td>\n",
       "      <td>NaN</td>\n",
       "      <td>NaN</td>\n",
       "      <td>NaT</td>\n",
       "      <td>Fin normale du batch</td>\n",
       "      <td>40017</td>\n",
       "      <td>NaN</td>\n",
       "      <td>NaN</td>\n",
       "      <td>NaN</td>\n",
       "      <td>NaN</td>\n",
       "      <td>0</td>\n",
       "    </tr>\n",
       "  </tbody>\n",
       "</table>\n",
       "</div>"
      ],
      "text/plain": [
       "   ICTRA_PK    ICTRA_USR        ICTRA_DATDEB        ICTRA_DATFIN  \\\n",
       "0    344771  REPORT_FLUX 2024-07-24 00:05:13 2024-07-24 01:31:04   \n",
       "1    344559  REPORT_FLUX 2024-07-05 00:05:12 2024-07-05 01:30:28   \n",
       "2    344720  REPORT_FLUX 2024-07-17 00:05:13 2024-07-17 01:30:25   \n",
       "3    344792  REPORT_FLUX 2024-07-27 00:05:13 2024-07-27 01:29:51   \n",
       "4    344733  REPORT_FLUX 2024-07-18 00:05:15 2024-07-18 01:29:02   \n",
       "\n",
       "   ICTRA_CODRET ICTRA_PARAM1 ICTRA_PARAM2 ICTRA_PARAM3 ICTRA_DATDEBTRAPRE  \\\n",
       "0           0.0          NaN          NaN          NaN                NaT   \n",
       "1           0.0          NaN          NaN          NaN                NaT   \n",
       "2           0.0          NaN          NaN          NaN                NaT   \n",
       "3           0.0          NaN          NaN          NaN                NaT   \n",
       "4           0.0          NaN          NaN          NaN                NaT   \n",
       "\n",
       "              ICTRA_COM  ICTRA_TYPE ICTRA_PARAM4 ICTRA_PARAM5 ICTRA_PARAM6  \\\n",
       "0  Fin normale du batch       40017          NaN          NaN          NaN   \n",
       "1  Fin normale du batch       40017          NaN          NaN          NaN   \n",
       "2  Fin normale du batch       40017          NaN          NaN          NaN   \n",
       "3  Fin normale du batch       40017          NaN          NaN          NaN   \n",
       "4  Fin normale du batch       40017          NaN          NaN          NaN   \n",
       "\n",
       "  ICTRA_PARAM7  y  \n",
       "0          NaN  0  \n",
       "1          NaN  0  \n",
       "2          NaN  0  \n",
       "3          NaN  0  \n",
       "4          NaN  0  "
      ]
     },
     "execution_count": 1,
     "metadata": {},
     "output_type": "execute_result"
    }
   ],
   "source": [
    "import numpy as np\n",
    "import pandas as pd\n",
    "\n",
    "df = pd.read_excel('output_2024_06_01.xlsx')\n",
    "df.head()\n",
    "# 0 est incident, 1 est normal"
   ]
  },
  {
   "cell_type": "markdown",
   "metadata": {},
   "source": [
    "## A. Explorer les caractéristiques des données"
   ]
  },
  {
   "cell_type": "markdown",
   "metadata": {},
   "source": [
    "### A.1 Équilibre des données"
   ]
  },
  {
   "cell_type": "code",
   "execution_count": 2,
   "metadata": {},
   "outputs": [
    {
     "name": "stdout",
     "output_type": "stream",
     "text": [
      "Taux de déséquilibre du dataset = 97.92%\n"
     ]
    }
   ],
   "source": [
    "rate = round(df[\"y\"].mean() * 100, 2) #round est une fonction qui permet d'arrondir un nombre à un nombre de décimales donné\n",
    "print(f\"Taux de déséquilibre du dataset = {rate}%\")\n",
    "# 97.92% des données sont normales, 2.08% sont des incidents"
   ]
  },
  {
   "cell_type": "code",
   "execution_count": 3,
   "metadata": {},
   "outputs": [
    {
     "name": "stdout",
     "output_type": "stream",
     "text": [
      "y\n",
      "1    7473\n",
      "0     159\n",
      "Name: count, dtype: int64\n"
     ]
    }
   ],
   "source": [
    "# Compter le nombre d'incidents et de données normales\n",
    "counts = df['y'].value_counts()\n",
    "print(counts)\n"
   ]
  },
  {
   "cell_type": "code",
   "execution_count": 4,
   "metadata": {},
   "outputs": [
    {
     "data": {
      "text/html": [
       "<div>\n",
       "<style scoped>\n",
       "    .dataframe tbody tr th:only-of-type {\n",
       "        vertical-align: middle;\n",
       "    }\n",
       "\n",
       "    .dataframe tbody tr th {\n",
       "        vertical-align: top;\n",
       "    }\n",
       "\n",
       "    .dataframe thead th {\n",
       "        text-align: right;\n",
       "    }\n",
       "</style>\n",
       "<table border=\"1\" class=\"dataframe\">\n",
       "  <thead>\n",
       "    <tr style=\"text-align: right;\">\n",
       "      <th></th>\n",
       "      <th>ICTRA_PK</th>\n",
       "      <th>ICTRA_DATDEB</th>\n",
       "      <th>ICTRA_DATFIN</th>\n",
       "      <th>ICTRA_CODRET</th>\n",
       "      <th>ICTRA_DATDEBTRAPRE</th>\n",
       "      <th>ICTRA_TYPE</th>\n",
       "      <th>y</th>\n",
       "    </tr>\n",
       "  </thead>\n",
       "  <tbody>\n",
       "    <tr>\n",
       "      <th>count</th>\n",
       "      <td>7632.000000</td>\n",
       "      <td>7632</td>\n",
       "      <td>7589</td>\n",
       "      <td>7590.000000</td>\n",
       "      <td>22</td>\n",
       "      <td>7632.000000</td>\n",
       "      <td>7632.000000</td>\n",
       "    </tr>\n",
       "    <tr>\n",
       "      <th>mean</th>\n",
       "      <td>343039.399633</td>\n",
       "      <td>2024-07-22 00:19:10.325340672</td>\n",
       "      <td>2024-07-21 11:40:08.079720448</td>\n",
       "      <td>0.408300</td>\n",
       "      <td>2024-02-26 16:21:49.090909184</td>\n",
       "      <td>40006.159591</td>\n",
       "      <td>0.979167</td>\n",
       "    </tr>\n",
       "    <tr>\n",
       "      <th>min</th>\n",
       "      <td>339223.000000</td>\n",
       "      <td>2024-06-01 00:05:17</td>\n",
       "      <td>2024-06-01 01:01:47</td>\n",
       "      <td>-1.000000</td>\n",
       "      <td>2020-12-02 00:00:00</td>\n",
       "      <td>40001.000000</td>\n",
       "      <td>0.000000</td>\n",
       "    </tr>\n",
       "    <tr>\n",
       "      <th>25%</th>\n",
       "      <td>341130.750000</td>\n",
       "      <td>2024-06-08 12:31:21.750000128</td>\n",
       "      <td>2024-06-08 11:31:21</td>\n",
       "      <td>0.000000</td>\n",
       "      <td>2024-07-27 12:00:00</td>\n",
       "      <td>40002.000000</td>\n",
       "      <td>1.000000</td>\n",
       "    </tr>\n",
       "    <tr>\n",
       "      <th>50%</th>\n",
       "      <td>343038.500000</td>\n",
       "      <td>2024-06-16 02:31:31</td>\n",
       "      <td>2024-06-16 01:31:22</td>\n",
       "      <td>0.000000</td>\n",
       "      <td>2024-10-08 00:00:00</td>\n",
       "      <td>40002.000000</td>\n",
       "      <td>1.000000</td>\n",
       "    </tr>\n",
       "    <tr>\n",
       "      <th>75%</th>\n",
       "      <td>344949.250000</td>\n",
       "      <td>2024-08-12 20:00:48.249999872</td>\n",
       "      <td>2024-08-09 07:12:13</td>\n",
       "      <td>0.000000</td>\n",
       "      <td>2024-10-21 18:00:00</td>\n",
       "      <td>40011.000000</td>\n",
       "      <td>1.000000</td>\n",
       "    </tr>\n",
       "    <tr>\n",
       "      <th>max</th>\n",
       "      <td>346857.000000</td>\n",
       "      <td>2025-02-11 10:49:36</td>\n",
       "      <td>2025-02-11 10:52:17</td>\n",
       "      <td>99.000000</td>\n",
       "      <td>2024-10-22 00:00:00</td>\n",
       "      <td>40025.000000</td>\n",
       "      <td>1.000000</td>\n",
       "    </tr>\n",
       "    <tr>\n",
       "      <th>std</th>\n",
       "      <td>2204.404097</td>\n",
       "      <td>NaN</td>\n",
       "      <td>NaN</td>\n",
       "      <td>6.314794</td>\n",
       "      <td>NaN</td>\n",
       "      <td>7.105765</td>\n",
       "      <td>0.142835</td>\n",
       "    </tr>\n",
       "  </tbody>\n",
       "</table>\n",
       "</div>"
      ],
      "text/plain": [
       "            ICTRA_PK                   ICTRA_DATDEB  \\\n",
       "count    7632.000000                           7632   \n",
       "mean   343039.399633  2024-07-22 00:19:10.325340672   \n",
       "min    339223.000000            2024-06-01 00:05:17   \n",
       "25%    341130.750000  2024-06-08 12:31:21.750000128   \n",
       "50%    343038.500000            2024-06-16 02:31:31   \n",
       "75%    344949.250000  2024-08-12 20:00:48.249999872   \n",
       "max    346857.000000            2025-02-11 10:49:36   \n",
       "std      2204.404097                            NaN   \n",
       "\n",
       "                        ICTRA_DATFIN  ICTRA_CODRET  \\\n",
       "count                           7589   7590.000000   \n",
       "mean   2024-07-21 11:40:08.079720448      0.408300   \n",
       "min              2024-06-01 01:01:47     -1.000000   \n",
       "25%              2024-06-08 11:31:21      0.000000   \n",
       "50%              2024-06-16 01:31:22      0.000000   \n",
       "75%              2024-08-09 07:12:13      0.000000   \n",
       "max              2025-02-11 10:52:17     99.000000   \n",
       "std                              NaN      6.314794   \n",
       "\n",
       "                  ICTRA_DATDEBTRAPRE    ICTRA_TYPE            y  \n",
       "count                             22   7632.000000  7632.000000  \n",
       "mean   2024-02-26 16:21:49.090909184  40006.159591     0.979167  \n",
       "min              2020-12-02 00:00:00  40001.000000     0.000000  \n",
       "25%              2024-07-27 12:00:00  40002.000000     1.000000  \n",
       "50%              2024-10-08 00:00:00  40002.000000     1.000000  \n",
       "75%              2024-10-21 18:00:00  40011.000000     1.000000  \n",
       "max              2024-10-22 00:00:00  40025.000000     1.000000  \n",
       "std                              NaN      7.105765     0.142835  "
      ]
     },
     "execution_count": 4,
     "metadata": {},
     "output_type": "execute_result"
    }
   ],
   "source": [
    "df.describe()"
   ]
  },
  {
   "cell_type": "markdown",
   "metadata": {},
   "source": [
    "### A.2 Explorer les types de données"
   ]
  },
  {
   "cell_type": "code",
   "execution_count": 5,
   "metadata": {},
   "outputs": [
    {
     "data": {
      "image/png": "[encoded data removed]",
      "text/plain": [
       "<Figure size 1500x700 with 1 Axes>"
      ]
     },
     "metadata": {},
     "output_type": "display_data"
    },
    {
     "name": "stdout",
     "output_type": "stream",
     "text": [
      "ICTRA_PK                       int64\n",
      "ICTRA_USR                     object\n",
      "ICTRA_DATDEB          datetime64[ns]\n",
      "ICTRA_DATFIN          datetime64[ns]\n",
      "ICTRA_CODRET                 float64\n",
      "ICTRA_PARAM1                  object\n",
      "ICTRA_PARAM2                  object\n",
      "ICTRA_PARAM3                  object\n",
      "ICTRA_DATDEBTRAPRE    datetime64[ns]\n",
      "ICTRA_COM                     object\n",
      "ICTRA_TYPE                     int64\n",
      "ICTRA_PARAM4                  object\n",
      "ICTRA_PARAM5                  object\n",
      "ICTRA_PARAM6                  object\n",
      "ICTRA_PARAM7                  object\n",
      "y                              int64\n",
      "dtype: object\n"
     ]
    }
   ],
   "source": [
    "import matplotlib.pyplot as plt\n",
    "import seaborn as sns; sns.set(style=\"whitegrid\")\n",
    "\n",
    "def plot_column(df, column, figsize=(15, 7)):\n",
    "    plt.figure(figsize=figsize)\n",
    "    plt.hist(df[column])\n",
    "    plt.title(\"Distribution de la colonne %s\" % column.capitalize())\n",
    "    plt.show()\n",
    "\n",
    "plot_column(df, \"y\")\n",
    "\n",
    "\n",
    "# voir le type de chaque colonne\n",
    "print(df.dtypes)\n",
    "\n",
    "\n"
   ]
  },
  {
   "cell_type": "markdown",
   "metadata": {},
   "source": [
    "### A.3 Exploration des valeurs NAN dans les données"
   ]
  },
  {
   "cell_type": "code",
   "execution_count": 6,
   "metadata": {},
   "outputs": [
    {
     "name": "stdout",
     "output_type": "stream",
     "text": [
      "ICTRA_PK               0.000000\n",
      "ICTRA_USR              0.013103\n",
      "ICTRA_DATDEB           0.000000\n",
      "ICTRA_DATFIN           0.563417\n",
      "ICTRA_CODRET           0.550314\n",
      "ICTRA_PARAM1          18.212788\n",
      "ICTRA_PARAM2          96.409853\n",
      "ICTRA_PARAM3          94.994759\n",
      "ICTRA_DATDEBTRAPRE    99.711740\n",
      "ICTRA_COM              0.563417\n",
      "ICTRA_TYPE             0.000000\n",
      "ICTRA_PARAM4          20.427149\n",
      "ICTRA_PARAM5          55.673480\n",
      "ICTRA_PARAM6          55.673480\n",
      "ICTRA_PARAM7          55.673480\n",
      "y                      0.000000\n",
      "dtype: float64\n"
     ]
    }
   ],
   "source": [
    "nan_percentage = df.isnull().mean() * 100\n",
    "print(nan_percentage)"
   ]
  },
  {
   "cell_type": "markdown",
   "metadata": {},
   "source": [
    "## B. Traitement des données\n",
    "Modification des exigences de certaines colonnes (les valeurs des caractéristiques de certaines colonnes varient en fonction des différents ICTRA_USR)."
   ]
  },
  {
   "cell_type": "markdown",
   "metadata": {},
   "source": [
    "### B.1 Ajout de colonnes supplémentaires"
   ]
  },
  {
   "cell_type": "code",
   "execution_count": 7,
   "metadata": {},
   "outputs": [
    {
     "name": "stdout",
     "output_type": "stream",
     "text": [
      "   ICTRA_PK    ICTRA_USR        ICTRA_DATDEB        ICTRA_DATFIN  \\\n",
      "0    344771  REPORT_FLUX 2024-07-24 00:05:13 2024-07-24 01:31:04   \n",
      "1    344559  REPORT_FLUX 2024-07-05 00:05:12 2024-07-05 01:30:28   \n",
      "2    344720  REPORT_FLUX 2024-07-17 00:05:13 2024-07-17 01:30:25   \n",
      "3    344792  REPORT_FLUX 2024-07-27 00:05:13 2024-07-27 01:29:51   \n",
      "4    344733  REPORT_FLUX 2024-07-18 00:05:15 2024-07-18 01:29:02   \n",
      "\n",
      "   ICTRA_CODRET ICTRA_PARAM1 ICTRA_PARAM2 ICTRA_PARAM3 ICTRA_DATDEBTRAPRE  \\\n",
      "0           0.0          NaN          NaN          NaN                NaT   \n",
      "1           0.0          NaN          NaN          NaN                NaT   \n",
      "2           0.0          NaN          NaN          NaN                NaT   \n",
      "3           0.0          NaN          NaN          NaN                NaT   \n",
      "4           0.0          NaN          NaN          NaN                NaT   \n",
      "\n",
      "              ICTRA_COM  ...  ICTRA_PARAM5 ICTRA_PARAM6 ICTRA_PARAM7  y  \\\n",
      "0  Fin normale du batch  ...           NaN          NaN          NaN  0   \n",
      "1  Fin normale du batch  ...           NaN          NaN          NaN  0   \n",
      "2  Fin normale du batch  ...           NaN          NaN          NaN  0   \n",
      "3  Fin normale du batch  ...           NaN          NaN          NaN  0   \n",
      "4  Fin normale du batch  ...           NaN          NaN          NaN  0   \n",
      "\n",
      "  execution_duration  start_hour  start_weekday  start_month  \\\n",
      "0             5151.0           0              2            7   \n",
      "1             5116.0           0              4            7   \n",
      "2             5112.0           0              2            7   \n",
      "3             5078.0           0              5            7   \n",
      "4             5027.0           0              3            7   \n",
      "\n",
      "   is_working_hours  is_weekend  \n",
      "0                 0           0  \n",
      "1                 0           0  \n",
      "2                 0           0  \n",
      "3                 0           1  \n",
      "4                 0           0  \n",
      "\n",
      "[5 rows x 22 columns]\n"
     ]
    }
   ],
   "source": [
    "# Convertir les colonnes de temps en type datetime\n",
    "df[\"ICTRA_DATDEB\"] = pd.to_datetime(df[\"ICTRA_DATDEB\"])\n",
    "df[\"ICTRA_DATFIN\"] = pd.to_datetime(df[\"ICTRA_DATFIN\"])\n",
    "\n",
    "# calculer la durée d'exécution (secondes)\n",
    "df[\"execution_duration\"] = (df[\"ICTRA_DATFIN\"] - df[\"ICTRA_DATDEB\"]).dt.total_seconds()\n",
    "\n",
    "# extraire les caractéristiques temporelles (heure, jour de la semaine, mois)\n",
    "df[\"start_hour\"] = df[\"ICTRA_DATDEB\"].dt.hour\n",
    "df[\"start_weekday\"] = df[\"ICTRA_DATDEB\"].dt.weekday\n",
    "df[\"start_month\"] = df[\"ICTRA_DATDEB\"].dt.month\n",
    "\n",
    "# vérifier est-ce que l'heure de début est comprise entre 8 et 17\n",
    "df[\"is_working_hours\"] = df[\"start_hour\"].apply(lambda x: 1 if 8 <= x <= 17 else 0)\n",
    "\n",
    "# vérifier est-ce que le jour de début est un weekend\n",
    "df[\"is_weekend\"] = df[\"start_weekday\"].apply(lambda x: 1 if x in [5, 6] else 0)\n",
    "\n",
    "print(df.head())\n",
    "\n",
    "\n"
   ]
  },
  {
   "cell_type": "markdown",
   "metadata": {},
   "source": [
    "### B.2 Suppression des colonnes inutiles\n",
    "Suppression de identifiant et des colonnes contenant plus de 90 % de valeurs NAN :\n",
    "\n",
    "- ICTRA_PARAM2 96,41 %\n",
    "- ICTRA_PARAM3 94,99 %\n",
    "- ICTRA_DATDEBTRAPRE 99,71 %"
   ]
  },
  {
   "cell_type": "code",
   "execution_count": 8,
   "metadata": {},
   "outputs": [],
   "source": [
    "# supprimer les colonnes inutiles\n",
    "df.drop(columns=[\"ICTRA_PK\"], inplace=True)\n",
    "# supprimer les colonnes contenant trop de NAN\n",
    "df.drop(columns=[\"ICTRA_DATDEBTRAPRE\"], inplace=True)\n",
    "df.drop(columns=[\"ICTRA_PARAM2\"], inplace=True)\n",
    "df.drop(columns=[\"ICTRA_PARAM3\"], inplace=True)"
   ]
  },
  {
   "cell_type": "code",
   "execution_count": 9,
   "metadata": {},
   "outputs": [],
   "source": [
    "# supprimer les colonnes de temps\n",
    "df.drop(columns=[\"ICTRA_DATFIN\"], inplace=True)\n",
    "df.drop(columns=[\"ICTRA_DATDEB\"], inplace=True)"
   ]
  },
  {
   "cell_type": "markdown",
   "metadata": {},
   "source": [
    "### B.3 Traitement des variables Label"
   ]
  },
  {
   "cell_type": "markdown",
   "metadata": {},
   "source": [
    "### B.3.1 Traitement de ICTRA_USR et ICTRA_TYPE"
   ]
  },
  {
   "cell_type": "markdown",
   "metadata": {},
   "source": [
    "- Si ICTRA_USR est null et ICTRA_TYPE = 40001, alors ICTRA_USR = \"40001\".\n",
    "- Si ICTRA_USR est null et ICTRA_TYPE = 40005, alors ICTRA_USR = \"IMPORT_MT509\".\n",
    "- Si ICTRA_USR est null et ICTRA_TYPE = 40007, alors ICTRA_USR = \"CRTR\"."
   ]
  },
  {
   "cell_type": "code",
   "execution_count": 10,
   "metadata": {},
   "outputs": [],
   "source": [
    "# Traitement des valeurs NAN dans ICTRA_USR\n",
    "df.loc[(df[\"ICTRA_USR\"].isna()) & (df[\"ICTRA_TYPE\"] == 40001), \"ICTRA_USR\"] = \"40001\"\n",
    "df.loc[(df[\"ICTRA_USR\"].isna()) & (df[\"ICTRA_TYPE\"] == 40005), \"ICTRA_USR\"] = \"IMPORT_MT509\"\n",
    "df.loc[(df[\"ICTRA_USR\"].isna()) & (df[\"ICTRA_TYPE\"] == 40007), \"ICTRA_USR\"] = \"CRTR\""
   ]
  },
  {
   "cell_type": "code",
   "execution_count": 11,
   "metadata": {},
   "outputs": [
    {
     "name": "stdout",
     "output_type": "stream",
     "text": [
      "ICTRA_USR\n",
      "GOST_IMPORT_ENCOURS     0.200000\n",
      "IMPORT_CARAC            0.294118\n",
      "IMP_POS_MT              0.378049\n",
      "REPORT_FLUX             0.759843\n",
      "GOST_IMPORT_OST         0.829787\n",
      "IMPORT_FONDS            0.857143\n",
      "EXPORT_FONDS            0.894737\n",
      "IMP_ASSOC               0.925926\n",
      "IMPORT_FLUX             0.962963\n",
      "VALID_AUTO              0.976608\n",
      "IMPORT_MT509            0.982143\n",
      "IMP_PRODUIT             0.987047\n",
      "EXPORT_ORDRE            0.994318\n",
      "exportOrdreValide       0.995833\n",
      "DEVERSEMENT             0.999809\n",
      "exportGB2000FondsIFI    1.000000\n",
      "IMPORT_TAUXR            1.000000\n",
      "IMP_POS_SG              1.000000\n",
      "40001                   1.000000\n",
      "ICO31J                  1.000000\n",
      "EXPORT_EMETT            1.000000\n",
      "EXPORT_DEVIS            1.000000\n",
      "EXPORT_COUFO            1.000000\n",
      "CRTR                    1.000000\n",
      "CALCUL_SHORT            1.000000\n",
      "CALCUL_PERF             1.000000\n",
      "BATCH_ARCHIVAGE_FLUX    1.000000\n",
      "IMPORT_GFIN             1.000000\n",
      "exportPRIIPS            1.000000\n",
      "Name: y, dtype: float64\n"
     ]
    }
   ],
   "source": [
    "# Détection de la relation entre ICTRA_USR et la variable y\n",
    "\n",
    "print(df.groupby(\"ICTRA_USR\")[\"y\"].mean().sort_values())"
   ]
  },
  {
   "cell_type": "markdown",
   "metadata": {},
   "source": [
    "#### Utilisation de l’encodage par cible (Target Encoding) pour ICTRA_USR\n",
    "- Étant donné que ICTRA_USR est fortement corrélé avec la variable cible y"
   ]
  },
  {
   "cell_type": "code",
   "execution_count": 12,
   "metadata": {},
   "outputs": [],
   "source": [
    "#Target Encoding\n",
    "df[\"ICTRA_USR_target_mean\"] = df.groupby(\"ICTRA_USR\")[\"y\"].transform(\"mean\")\n"
   ]
  },
  {
   "cell_type": "code",
   "execution_count": 13,
   "metadata": {},
   "outputs": [],
   "source": [
    "# Supprimer la colonne ICTRA_Type\n",
    "# Après l'encodage par cible de ICTRA_USR, la colonne ICTRA_TYPE devient redondante et est supprimée du jeu de données afin d'éviter la multicolinéarité et d'optimiser les performances du modèle.\n",
    "df.drop(columns=[\"ICTRA_TYPE\"], inplace=True)"
   ]
  },
  {
   "cell_type": "markdown",
   "metadata": {},
   "source": [
    "#### B.3.2 Traitement de PARAM1\n",
    "#### Les différentes formes de données dans PARAM1 :\n",
    "\n",
    "- Numéro de lot (Batch ID) : Identifiant associé à Deversement.\n",
    "- Date : Valeurs de type date.\n",
    "- Répertoire (Chemin de fichier ou dossier).\n",
    "- Logiciel spécifique : Peut prendre les valeurs \"Epargner\", \"GBPROD\", \"GB2000\", \"SOLIFE\", \"FONDSALL\", \"HISTO\"."
   ]
  },
  {
   "cell_type": "code",
   "execution_count": 14,
   "metadata": {},
   "outputs": [
    {
     "name": "stdout",
     "output_type": "stream",
     "text": [
      "   ICTRA_PARAM1_encoded  ICTRA_PARAM1_sous_type  ICTRA_PARAM1_other_num  \\\n",
      "0                   204                     NaN                     NaN   \n",
      "1                   204                     NaN                     NaN   \n",
      "2                   204                     NaN                     NaN   \n",
      "3                   204                     NaN                     NaN   \n",
      "4                   204                     NaN                     NaN   \n",
      "\n",
      "  ICTRA_PARAM1_date  ICTRA_PARAM1_is_path  \n",
      "0               NaT                     0  \n",
      "1               NaT                     0  \n",
      "2               NaT                     0  \n",
      "3               NaT                     0  \n",
      "4               NaT                     0  \n"
     ]
    },
    {
     "name": "stderr",
     "output_type": "stream",
     "text": [
      "/var/folders/b4/6b5cdwqx3qd94p_4bdv167zm0000gn/T/ipykernel_30768/3769907349.py:8: UserWarning: Could not infer format, so each element will be parsed individually, falling back to `dateutil`. To ensure parsing is consistent and as-expected, please specify a format.\n",
      "  df[\"ICTRA_PARAM1_date\"] = pd.to_datetime(df[\"ICTRA_PARAM1\"], errors=\"coerce\")\n"
     ]
    }
   ],
   "source": [
    "from sklearn.preprocessing import LabelEncoder# 填充缺失值（先填充 \"unknown\" 以避免报错）\n",
    "df[\"ICTRA_PARAM1\"].fillna(\"unknown\", inplace=True)\n",
    "\n",
    "# suopprimer les valeurs inutiles\n",
    "df = df[~df[\"ICTRA_PARAM1\"].isin([\"202407300533_RapproAO.csv\", \"Import Avis Operes\"])]\n",
    "\n",
    "# uniformiser le format de la date\n",
    "df[\"ICTRA_PARAM1_date\"] = pd.to_datetime(df[\"ICTRA_PARAM1\"], errors=\"coerce\")\n",
    "\n",
    "# traitements de type des données\n",
    "df[\"ICTRA_PARAM1_sous_type\"] = df[\"ICTRA_PARAM1\"].astype(str).apply(lambda x: int(x) if x in [\"0\", \"1\", \"2\", \"3\", \"4\", \"5\"] else None)\n",
    "df[\"ICTRA_PARAM1_other_num\"] = df[\"ICTRA_PARAM1\"].astype(str).apply(lambda x: int(x) if x.isdigit() and x not in [\"0\", \"1\", \"2\", \"3\", \"4\", \"5\"] else None)\n",
    "\n",
    "# traitement de chemins de fichiers\n",
    "df[\"ICTRA_PARAM1_is_path\"] = df[\"ICTRA_PARAM1\"].astype(str).apply(lambda x: 1 if x.startswith(\"/data/\") else 0)\n",
    "\n",
    "# traitement de FONDS_INCONNU\n",
    "df[\"ICTRA_PARAM1_is_fonds_inconnu\"] = (df[\"ICTRA_PARAM1\"] == \"FONDS_INCONNU\").astype(int)\n",
    "df.loc[df[\"ICTRA_USR\"] == \"IMPORT_FONDS\", \"ICTRA_PARAM1\"] = \"unknown\"\n",
    "\n",
    "# Label Encoding\n",
    "le = LabelEncoder()\n",
    "df[\"ICTRA_PARAM1_encoded\"] = le.fit_transform(df[\"ICTRA_PARAM1\"].astype(str))\n",
    "\n",
    "# Montrer les colonnes traitées\n",
    "print(df[[\"ICTRA_PARAM1_encoded\",\"ICTRA_PARAM1_sous_type\", \"ICTRA_PARAM1_other_num\", \"ICTRA_PARAM1_date\", \"ICTRA_PARAM1_is_path\"]].head())\n",
    "\n",
    "\n",
    "\n",
    "\n"
   ]
  },
  {
   "cell_type": "code",
   "execution_count": 15,
   "metadata": {},
   "outputs": [],
   "source": [
    "df.drop(columns=[\"ICTRA_USR\"], inplace=True)"
   ]
  },
  {
   "cell_type": "code",
   "execution_count": 16,
   "metadata": {},
   "outputs": [],
   "source": [
    "#supprimer les colonnes inutiles\n",
    "df.drop(columns=[\"ICTRA_PARAM1\"], inplace=True)"
   ]
  },
  {
   "cell_type": "markdown",
   "metadata": {},
   "source": [
    "#### B.3.3 Traitement de ICTRA_COM"
   ]
  },
  {
   "cell_type": "code",
   "execution_count": 17,
   "metadata": {},
   "outputs": [],
   "source": [
    "df[\"ICTRA_COM\"].fillna(\"unknown\", inplace=True)\n"
   ]
  },
  {
   "cell_type": "code",
   "execution_count": 18,
   "metadata": {},
   "outputs": [],
   "source": [
    "from sklearn.feature_extraction.text import TfidfVectorizer\n",
    "# Target Encoding\n",
    "df[\"ICTRA_COM_target_mean\"] = df.groupby(\"ICTRA_COM\")[\"y\"].transform(\"mean\")\n",
    "\n",
    "# extraire les mots clés\n",
    "df[\"ICTRA_COM_has_file\"] = df[\"ICTRA_COM\"].apply(lambda x: 1 if \"fichier\" in x.lower() else 0)\n",
    "df[\"ICTRA_COM_has_error\"] = df[\"ICTRA_COM\"].apply(lambda x: 1 if \"erreur\" in x.lower() else 0)\n",
    "df[\"ICTRA_COM_has_export\"] = df[\"ICTRA_COM\"].apply(lambda x: 1 if \"export\" in x.lower() else 0)\n",
    "df[\"ICTRA_COM_has_batch\"] = df[\"ICTRA_COM\"].apply(lambda x: 1 if \"batch\" in x.lower() else 0)\n",
    "df[\"ICTRA_COM_has_rejet\"] = df[\"ICTRA_COM\"].apply(lambda x: 1 if \"rejet\" in x.lower() else 0)\n",
    "\n",
    "# traitement TF-IDF\n",
    "vectorizer = TfidfVectorizer(max_features=50)\n",
    "X_tfidf = vectorizer.fit_transform(df[\"ICTRA_COM\"].astype(str))\n",
    "df_tfidf = pd.DataFrame(X_tfidf.toarray(), columns=vectorizer.get_feature_names_out())\n",
    "df = pd.concat([df, df_tfidf], axis=1)"
   ]
  },
  {
   "cell_type": "code",
   "execution_count": 19,
   "metadata": {},
   "outputs": [],
   "source": [
    "#Suppression de la colonne ICTRA_COM\n",
    "# Étant donné que ICTRA_COM a été converti en une caractéristique numérique, la colonne texte d'origine devient redondante \n",
    "df.drop(columns=[\"ICTRA_COM\"], inplace=True)"
   ]
  },
  {
   "cell_type": "code",
   "execution_count": 20,
   "metadata": {},
   "outputs": [],
   "source": [
    "# Vérifier les données du tableau actuel\n",
    "# Enregistrer dans le fichier Excel correspondant\n",
    "# Définir le chemin du fichier de sortie\n",
    "# Sauvegarder dans Excel\n",
    "#output_file_path = \"processed_output.xlsx\"\n",
    "#df.to_excel(output_file_path, index=False)\n",
    "\n",
    "#print(f\"les données traitées est dans {output_file_path}\")"
   ]
  },
  {
   "cell_type": "markdown",
   "metadata": {},
   "source": [
    "#### B.3.4 Traitement de PARAM4\n"
   ]
  },
  {
   "cell_type": "code",
   "execution_count": 21,
   "metadata": {},
   "outputs": [],
   "source": [
    "from sklearn.preprocessing import StandardScaler\n",
    "# traitement de NaN\n",
    "df[\"ICTRA_PARAM4\"].fillna(\"unknown\", inplace=True)\n",
    "\n",
    "# extraire les donées de `Flux à traiter X` \n",
    "df[\"flux_count\"] = df[\"ICTRA_PARAM4\"].str.extract(r'Flux à traiter (\\d+)').astype(float)\n",
    "\n",
    "# extraire `Nb de ligne Lu: X Ecrite: Y`\n",
    "df[\"lines_read\"] = df[\"ICTRA_PARAM4\"].str.extract(r'Nb de ligne Lu: (\\d+)').astype(float)\n",
    "df[\"lines_written\"] = df[\"ICTRA_PARAM4\"].str.extract(r'Ecrite: (\\d+)').astype(float)\n",
    "\n",
    "# extraire `Export terminé : X lignes récupérées`\n",
    "df[\"lines_exported\"] = df[\"ICTRA_PARAM4\"].str.extract(r'Export terminé : (\\d+)').astype(float)\n",
    "\n",
    "# extraire `Aucun fichier trouvé`\n",
    "df[\"no_data\"] = df[\"ICTRA_PARAM4\"].apply(lambda x: 1 if \"aucun\" in x.lower() else 0)\n",
    "\n",
    "# traitement de NaN (remplir 0)\n",
    "df.fillna(0, inplace=True)\n",
    "\n",
    "# standardisation\n",
    "scaler = StandardScaler()\n",
    "df[[\"flux_count\", \"lines_read\", \"lines_written\", \"lines_exported\"]] = scaler.fit_transform(\n",
    "    df[[\"flux_count\", \"lines_read\", \"lines_written\", \"lines_exported\"]])\n",
    "\n",
    "# supprimer la colonne ICTRA_PARAM4\n",
    "df.drop(columns=[\"ICTRA_PARAM4\"], inplace=True)"
   ]
  },
  {
   "cell_type": "markdown",
   "metadata": {},
   "source": [
    "#### B.3.5 Traitement de PARAM5"
   ]
  },
  {
   "cell_type": "code",
   "execution_count": 22,
   "metadata": {},
   "outputs": [],
   "source": [
    "# traitement de NaN\n",
    "df[\"ICTRA_PARAM5_missing\"] = df[\"ICTRA_PARAM5\"].isna().astype(int)  # 创建缺失值指示变量\n",
    "df[\"ICTRA_PARAM5\"].fillna(\"unknown\", inplace=True)  # 先填充 \"unknown\"\n",
    "\n",
    "# extraire `Flux traités X` \n",
    "df[\"flux_count\"] = df[\"ICTRA_PARAM5\"].str.extract(r'Flux traités (\\d+)').astype(float)\n",
    "\n",
    "# traiter `202407300533_RapproAO_rejet.csv`（cas spéciale）\n",
    "df[\"ICTRA_PARAM5_is_reject_file\"] = df[\"ICTRA_PARAM5\"].apply(lambda x: 1 if \"rejet.csv\" in str(x).lower() else 0)\n",
    "\n",
    "# remplir les valeurs manquantes avec la médiane\n",
    "df[\"flux_count\"].fillna(df[\"flux_count\"].median(), inplace=True)\n",
    "\n",
    "# Standardisation\n",
    "scaler = StandardScaler()\n",
    "df[[\"flux_count\"]] = scaler.fit_transform(df[[\"flux_count\"]])\n",
    "\n",
    "# supprimer `ICTRA_PARAM5`\n",
    "df.drop(columns=[\"ICTRA_PARAM5\"], inplace=True)"
   ]
  },
  {
   "cell_type": "markdown",
   "metadata": {},
   "source": [
    "#### B.3.6 Traitement de PARAM6"
   ]
  },
  {
   "cell_type": "code",
   "execution_count": 23,
   "metadata": {},
   "outputs": [
    {
     "name": "stderr",
     "output_type": "stream",
     "text": [
      "/Library/Python/3.9/site-packages/numpy/lib/nanfunctions.py:1215: RuntimeWarning: Mean of empty slice\n",
      "  return np.nanmean(a, axis, out=out, keepdims=keepdims)\n",
      "/Users/yangyang/Library/Python/3.9/lib/python/site-packages/sklearn/utils/extmath.py:1101: RuntimeWarning: invalid value encountered in divide\n",
      "  updated_mean = (last_sum + new_sum) / updated_sample_count\n",
      "/Users/yangyang/Library/Python/3.9/lib/python/site-packages/sklearn/utils/extmath.py:1106: RuntimeWarning: invalid value encountered in divide\n",
      "  T = new_sum / new_sample_count\n",
      "/Users/yangyang/Library/Python/3.9/lib/python/site-packages/sklearn/utils/extmath.py:1126: RuntimeWarning: invalid value encountered in divide\n",
      "  new_unnormalized_variance -= correction**2 / new_sample_count\n"
     ]
    }
   ],
   "source": [
    "from sklearn.preprocessing import StandardScaler\n",
    "\n",
    "# traitement de NaN \n",
    "df[\"ICTRA_PARAM6_missing\"] = df[\"ICTRA_PARAM6\"].isna().astype(int)  # 创建缺失值指示变量\n",
    "df[\"ICTRA_PARAM6\"].fillna(\"unknown\", inplace=True)  # 填充 \"unknown\"\n",
    "\n",
    "# extraire `Flux intégrés X` \n",
    "df[\"flux_integrated\"] = df[\"ICTRA_PARAM6\"].str.extract(r'Flux intégrés (\\d+)').astype(float)\n",
    "\n",
    "# extraire `Nb Lignes KO : X` \n",
    "df[\"nb_lignes_ko\"] = df[\"ICTRA_PARAM6\"].str.extract(r'Nb Lignes KO : (\\d+)').astype(float)\n",
    "\n",
    "df.loc[df[\"ICTRA_PARAM6\"] == \"1365\", \"nb_lignes_ko\"] = 1365\n",
    "\n",
    "# remplir NaN（utiliser le médian）\n",
    "df[\"flux_integrated\"].fillna(df[\"flux_integrated\"].median(), inplace=True)\n",
    "df[\"nb_lignes_ko\"].fillna(df[\"nb_lignes_ko\"].median(), inplace=True)\n",
    "\n",
    "# standardisation\n",
    "scaler = StandardScaler()\n",
    "df[[\"flux_integrated\", \"nb_lignes_ko\"]] = scaler.fit_transform(df[[\"flux_integrated\", \"nb_lignes_ko\"]])\n",
    "\n",
    "# supprimer `ICTRA_PARAM6`\n",
    "df.drop(columns=[\"ICTRA_PARAM6\"], inplace=True)\n"
   ]
  },
  {
   "cell_type": "markdown",
   "metadata": {},
   "source": [
    "#### B.3.7 Traitement de ICTRA_PARAM7"
   ]
  },
  {
   "cell_type": "code",
   "execution_count": 24,
   "metadata": {},
   "outputs": [
    {
     "name": "stderr",
     "output_type": "stream",
     "text": [
      "/Library/Python/3.9/site-packages/numpy/lib/nanfunctions.py:1215: RuntimeWarning: Mean of empty slice\n",
      "  return np.nanmean(a, axis, out=out, keepdims=keepdims)\n",
      "/Users/yangyang/Library/Python/3.9/lib/python/site-packages/sklearn/utils/extmath.py:1101: RuntimeWarning: invalid value encountered in divide\n",
      "  updated_mean = (last_sum + new_sum) / updated_sample_count\n",
      "/Users/yangyang/Library/Python/3.9/lib/python/site-packages/sklearn/utils/extmath.py:1106: RuntimeWarning: invalid value encountered in divide\n",
      "  T = new_sum / new_sample_count\n",
      "/Users/yangyang/Library/Python/3.9/lib/python/site-packages/sklearn/utils/extmath.py:1126: RuntimeWarning: invalid value encountered in divide\n",
      "  new_unnormalized_variance -= correction**2 / new_sample_count\n"
     ]
    }
   ],
   "source": [
    "# Traitement de NaN \n",
    "df[\"ICTRA_PARAM7_missing\"] = df[\"ICTRA_PARAM7\"].isna().astype(int)  # 创建缺失值指示变量\n",
    "df[\"ICTRA_PARAM7\"].fillna(\"unknown\", inplace=True)  # 填充 \"unknown\"\n",
    "\n",
    "# extraire `Flux rejetés X` \n",
    "df[\"flux_rejected\"] = df[\"ICTRA_PARAM7\"].str.extract(r'Flux rejetés\\s*:\\s*(\\d+)').astype(float)\n",
    "\n",
    "# extraire `Flux filtrés X` \n",
    "df[\"flux_filtered\"] = df[\"ICTRA_PARAM7\"].str.extract(r'Flux filtrés\\s*:\\s*(\\d+)').astype(float)\n",
    "\n",
    "# extraire `Nb Lignes Avertissement X` \n",
    "df[\"nb_avertissement\"] = df[\"ICTRA_PARAM7\"].str.extract(r'Nb Lignes Avertissement\\s*:\\s*(\\d+)').astype(float)\n",
    "\n",
    "# traitement de NaN（remplir avec la médiane）\n",
    "df[\"flux_rejected\"].fillna(df[\"flux_rejected\"].median(), inplace=True)\n",
    "df[\"flux_filtered\"].fillna(df[\"flux_filtered\"].median(), inplace=True)\n",
    "df[\"nb_avertissement\"].fillna(df[\"nb_avertissement\"].median(), inplace=True)\n",
    "\n",
    "# standardisation\n",
    "scaler = StandardScaler()\n",
    "df[[\"flux_rejected\", \"flux_filtered\", \"nb_avertissement\"]] = scaler.fit_transform(df[[\"flux_rejected\", \"flux_filtered\", \"nb_avertissement\"]])\n",
    "\n",
    "# supprimer `ICTRA_PARAM7`\n",
    "df.drop(columns=[\"ICTRA_PARAM7\"], inplace=True)\n"
   ]
  },
  {
   "cell_type": "markdown",
   "metadata": {},
   "source": [
    "## C. Détection des valeurs NAN après le nettoyage et génération des données"
   ]
  },
  {
   "cell_type": "code",
   "execution_count": 25,
   "metadata": {},
   "outputs": [
    {
     "name": "stdout",
     "output_type": "stream",
     "text": [
      "ICTRA_CODRET              0.0\n",
      "y                         0.0\n",
      "execution_duration        0.0\n",
      "start_hour                0.0\n",
      "start_weekday             0.0\n",
      "                        ...  \n",
      "nb_lignes_ko            100.0\n",
      "ICTRA_PARAM7_missing      0.0\n",
      "flux_rejected             0.0\n",
      "flux_filtered             0.0\n",
      "nb_avertissement        100.0\n",
      "Length: 72, dtype: float64\n"
     ]
    }
   ],
   "source": [
    "nan_percentage = df.isnull().mean() * 100\n",
    "print(nan_percentage)"
   ]
  },
  {
   "cell_type": "code",
   "execution_count": 26,
   "metadata": {},
   "outputs": [],
   "source": [
    "# nettoyer les colonnes générées par erreur\n",
    "df.drop(columns=[\"nb_avertissement\"], inplace=True)\n",
    "df.drop(columns=[\"nb_lignes_ko\"], inplace=True)"
   ]
  },
  {
   "cell_type": "code",
   "execution_count": 27,
   "metadata": {},
   "outputs": [
    {
     "name": "stdout",
     "output_type": "stream",
     "text": [
      "les données traitées est dans cleaned_donnee.xlsx\n"
     ]
    }
   ],
   "source": [
    "# Vérifier les données du tableau actuel\n",
    "# Enregistrer dans le fichier Excel correspondant\n",
    "# Définir le chemin du fichier de sortie\n",
    "# Sauvegarder dans Excel\n",
    "output_file_path = \"cleaned_donnee.xlsx\"\n",
    "df.to_excel(output_file_path, index=False)\n",
    "\n",
    "print(f\"les données traitées est dans {output_file_path}\")\n",
    "\n"
   ]
  },
  {
   "cell_type": "code",
   "execution_count": 28,
   "metadata": {},
   "outputs": [
    {
     "name": "stdout",
     "output_type": "stream",
     "text": [
      "70\n"
     ]
    }
   ],
   "source": [
    "# le nombre de colonnes après l'ingénierie des caractéristiques\n",
    "print(len(df.columns))"
   ]
  },
  {
   "cell_type": "code",
   "execution_count": 29,
   "metadata": {},
   "outputs": [],
   "source": [
    "df.drop(columns=[\"ICTRA_PARAM1_date\"], inplace=True)"
   ]
  },
  {
   "cell_type": "markdown",
   "metadata": {},
   "source": [
    "# D. Utilisation de la Régression Logistique"
   ]
  },
  {
   "cell_type": "code",
   "execution_count": 30,
   "metadata": {},
   "outputs": [
    {
     "name": "stdout",
     "output_type": "stream",
     "text": [
      "     Metric     Score\n",
      "0  Accuracy  0.992796\n",
      "[[  32    0]\n",
      " [  11 1484]]\n",
      "              precision    recall  f1-score   support\n",
      "\n",
      "         0.0       0.74      1.00      0.85        32\n",
      "         1.0       1.00      0.99      1.00      1495\n",
      "\n",
      "    accuracy                           0.99      1527\n",
      "   macro avg       0.87      1.00      0.92      1527\n",
      "weighted avg       0.99      0.99      0.99      1527\n",
      "\n"
     ]
    },
    {
     "name": "stderr",
     "output_type": "stream",
     "text": [
      "/Users/yangyang/Library/Python/3.9/lib/python/site-packages/sklearn/linear_model/_logistic.py:465: ConvergenceWarning: lbfgs failed to converge (status=1):\n",
      "STOP: TOTAL NO. of ITERATIONS REACHED LIMIT.\n",
      "\n",
      "Increase the number of iterations (max_iter) or scale the data as shown in:\n",
      "    https://scikit-learn.org/stable/modules/preprocessing.html\n",
      "Please also refer to the documentation for alternative solver options:\n",
      "    https://scikit-learn.org/stable/modules/linear_model.html#logistic-regression\n",
      "  n_iter_i = _check_optimize_result(\n"
     ]
    }
   ],
   "source": [
    "from sklearn.model_selection import train_test_split\n",
    "from sklearn.linear_model import LogisticRegression\n",
    "from sklearn.metrics import classification_report, accuracy_score, confusion_matrix\n",
    "\n",
    "# séparer les variables caractéristiques et cibles\n",
    "X = df.drop(columns=[\"y\"])  # variables caractéristiques\n",
    "y = df[\"y\"]  # variable cible\n",
    "\n",
    "# séparer les données en ensembles d'entraînement et de test (80% d'entraînement, 20% de test)\n",
    "X_train, X_test, y_train, y_test = train_test_split(X, y, test_size=0.2, stratify=y, random_state=42)\n",
    "\n",
    "# entraîner le modèle de régression logistique\n",
    "logreg = LogisticRegression(class_weight=\"balanced\", max_iter=1000, random_state=42)\n",
    "logreg.fit(X_train, y_train)\n",
    "\n",
    "# prédire les données de test\n",
    "y_pred = logreg.predict(X_test)\n",
    "\n",
    "# Estimer la modèle\n",
    "accuracy = accuracy_score(y_test, y_pred)\n",
    "conf_matrix = confusion_matrix(y_test, y_pred)\n",
    "class_report = classification_report(y_test, y_pred)\n",
    "\n",
    "results_df = pd.DataFrame({\"Metric\": [\"Accuracy\"], \"Score\": [accuracy]})\n",
    "print(results_df)\n",
    "\n",
    "conf_matrix = confusion_matrix(y_test, y_pred)\n",
    "print(conf_matrix)\n",
    "\n",
    "print(classification_report(y_test, y_pred))\n"
   ]
  },
  {
   "cell_type": "markdown",
   "metadata": {},
   "source": [
    "## **Conclusion**\n",
    "\n",
    "### **Précision (Precision)**\n",
    "- **Classe 0.0 (incident/négative)** : **0.74** → Parmi les échantillons prédits comme 0, **74 % sont corrects**.\n",
    "- **Classe 1.0 (normal/positive)** : **1.00** → Parmi les échantillons prédits comme 1, **100 % sont corrects**.\n",
    "- **Interprétation** : La prédiction de **1** est plus précise que celle de **0**, sans faux normal(positifs).\n",
    "\n",
    "### **Rappel (Recall)**\n",
    "- **Classe 0.0** : **1.00** → Tous les échantillons réellement **0** sont correctement classés.\n",
    "- **Classe 1.0** : **0.99** → **99 %** des échantillons réellement **1** sont correctement classés, avec **quelques erreurs de classification en 0 **.\n",
    "- **Interprétation** : Le modèle a **très peu de erreurs** pour la classe **1**.\n",
    "\n",
    "### **Score F1 (F1-score)**\n",
    "Le **F1-score** est la moyenne harmonique entre la précision et le rappel :\n",
    "\n",
    "$$ F1\\text{-}score = 2 \\times \\frac{(\\text{Precision} \\times \\text{Recall})}{(\\text{Precision} + \\text{Recall})} $$\n",
    "\n",
    "### **Support (Effectif des classes)**\n",
    "Le **support** correspond au **nombre d’échantillons par classe** :\n",
    "- **Classe 0.0** : **32 échantillons**\n",
    "- **Classe 1.0** : **1495 échantillons**\n",
    "\n",
    "\n",
    "## **Conclusion générale**\n",
    " **Prédiction très précise pour la classe 1.0** (**1495 échantillons**) avec **Précision = 1.00**, **Recall = 0.99**, **F1-score = 1.00**.  \n",
    "**Prédiction légèrement moins performante pour la classe 0.0** (**32 échantillons**) avec **Précision = 0.74**, **Recall = 1.00**, **F1-score = 0.85**\n",
    " **Exactitude globale (Accuracy) = 0.99 (99%)**, ce qui est excellent. **Toutefois, le déséquilibre des classes (0 sous-représenté) peut poser un problème**.\n"
   ]
  }
 ],
 "metadata": {
  "kernelspec": {
   "display_name": "Python 3",
   "language": "python",
   "name": "python3"
  },
  "language_info": {
   "codemirror_mode": {
    "name": "ipython",
    "version": 3
   },
   "file_extension": ".py",
   "mimetype": "text/x-python",
   "name": "python",
   "nbconvert_exporter": "python",
   "pygments_lexer": "ipython3",
   "version": "3.9.6"
  }
 },
 "nbformat": 4,
 "nbformat_minor": 2
}
